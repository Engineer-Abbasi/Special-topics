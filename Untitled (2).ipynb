{
 "cells": [
  {
   "cell_type": "code",
   "execution_count": 2,
   "id": "b0ae4f5c-18d4-4448-be8c-8a7efe81dd3d",
   "metadata": {},
   "outputs": [],
   "source": [
    "import math"
   ]
  },
  {
   "cell_type": "code",
   "execution_count": 17,
   "id": "6e9f3ef8-3050-4b02-a028-bc178c30f842",
   "metadata": {},
   "outputs": [],
   "source": [
    "def tb(a,c,d):\n",
    "    return a/c+d"
   ]
  },
  {
   "cell_type": "code",
   "execution_count": 18,
   "id": "54599562-e5d2-4f0e-901f-35a47e43d91d",
   "metadata": {},
   "outputs": [],
   "source": [
    "def ty(b,x,a):\n",
    "    return b*x/a/x"
   ]
  },
  {
   "cell_type": "code",
   "execution_count": 19,
   "id": "8c20e33f-049c-4bf8-9a57-2603942f1d28",
   "metadata": {},
   "outputs": [],
   "source": [
    "def tarea(r):\n",
    "    return math.pi*r**2"
   ]
  },
  {
   "cell_type": "code",
   "execution_count": 8,
   "id": "3d1bf7af-75ba-485b-9f4e-29675263c89a",
   "metadata": {},
   "outputs": [
    {
     "name": "stdin",
     "output_type": "stream",
     "text": [
      "مقدار a را وارد کنید: 8\n",
      "مقدار c را وارد کنید: 9\n",
      "مقدار d را وارد کنید: 6\n",
      "مقدار x را وارد کنید: 7\n",
      "مقدار rرا وارد کنید: 2\n"
     ]
    }
   ],
   "source": [
    "a=float(input(\"مقدار a را وارد کنید:\"))\n",
    "c=float(input(\"مقدار c را وارد کنید:\"))\n",
    "d=float(input(\"مقدار d را وارد کنید:\"))\n",
    "x=float(input(\"مقدار x را وارد کنید:\"))\n",
    "r=float(input(\"مقدار rرا وارد کنید:\"))"
   ]
  },
  {
   "cell_type": "code",
   "execution_count": 20,
   "id": "8d34a3f0-cedf-4618-b4c2-9cedf51226b1",
   "metadata": {},
   "outputs": [],
   "source": [
    "b=tb(a,c,d)\n",
    "y=ty(b,x,a)\n",
    "area=tarea(r)"
   ]
  },
  {
   "cell_type": "code",
   "execution_count": 21,
   "id": "c625b20d-69ca-46f4-a82e-3519b729965f",
   "metadata": {},
   "outputs": [
    {
     "name": "stdout",
     "output_type": "stream",
     "text": [
      "6.888888888888889\n",
      "0.8611111111111113\n",
      "12.566370614359172\n"
     ]
    }
   ],
   "source": [
    "print(b)\n",
    "print(y)\n",
    "print(area)"
   ]
  },
  {
   "cell_type": "code",
   "execution_count": null,
   "id": "ce4268b9-05f9-4a3f-803e-6015b92005f4",
   "metadata": {},
   "outputs": [],
   "source": []
  }
 ],
 "metadata": {
  "kernelspec": {
   "display_name": "Python 3 (ipykernel)",
   "language": "python",
   "name": "python3"
  },
  "language_info": {
   "codemirror_mode": {
    "name": "ipython",
    "version": 3
   },
   "file_extension": ".py",
   "mimetype": "text/x-python",
   "name": "python",
   "nbconvert_exporter": "python",
   "pygments_lexer": "ipython3",
   "version": "3.13.3"
  }
 },
 "nbformat": 4,
 "nbformat_minor": 5
}
