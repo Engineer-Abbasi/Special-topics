{
 "cells": [
  {
   "cell_type": "code",
   "execution_count": 1,
   "id": "087f7767-e978-460c-86dd-cb1ba229d839",
   "metadata": {},
   "outputs": [],
   "source": [
    "import math as k"
   ]
  },
  {
   "cell_type": "code",
   "execution_count": 2,
   "id": "5f0e04f2-ddfe-4533-918b-149d3339ed22",
   "metadata": {},
   "outputs": [],
   "source": [
    "def t1 (x,y):\n",
    "    return x/y*k.log(x/y)"
   ]
  },
  {
   "cell_type": "code",
   "execution_count": 3,
   "id": "f285c5d4-a2c7-4c1e-89fd-ea9e0d034763",
   "metadata": {},
   "outputs": [
    {
     "name": "stdin",
     "output_type": "stream",
     "text": [
      " 8\n",
      " 9\n"
     ]
    }
   ],
   "source": [
    "x=float(input())\n",
    "y=float(input())"
   ]
  },
  {
   "cell_type": "code",
   "execution_count": 4,
   "id": "25d7c897-8bec-43f7-8f8a-0471b8485b7f",
   "metadata": {},
   "outputs": [],
   "source": [
    "t=t1(x,y)"
   ]
  },
  {
   "cell_type": "code",
   "execution_count": 5,
   "id": "566848a7-2fcd-4db0-ab6b-ed5dcfc6b330",
   "metadata": {},
   "outputs": [
    {
     "name": "stdout",
     "output_type": "stream",
     "text": [
      "-0.10469603169456311\n"
     ]
    }
   ],
   "source": [
    "print (t)"
   ]
  },
  {
   "cell_type": "code",
   "execution_count": 6,
   "id": "60dbcd3d-085e-4441-a1b1-1bc925f8652b",
   "metadata": {},
   "outputs": [],
   "source": [
    "def t2 (e,p,o):\n",
    "    return 1/1+e*p*(-x)"
   ]
  },
  {
   "cell_type": "code",
   "execution_count": 7,
   "id": "7478cd7b-9800-4bbf-a181-33d46be644e4",
   "metadata": {},
   "outputs": [
    {
     "name": "stdin",
     "output_type": "stream",
     "text": [
      " 4\n",
      " 6\n",
      " 3\n"
     ]
    }
   ],
   "source": [
    "e=float(input())\n",
    "p=float(input())\n",
    "o=float(input())"
   ]
  },
  {
   "cell_type": "code",
   "execution_count": 8,
   "id": "e527a9e1-46a3-4808-8a32-a8609d296cc5",
   "metadata": {},
   "outputs": [],
   "source": [
    "tt=t2(e,p,o)"
   ]
  },
  {
   "cell_type": "code",
   "execution_count": 9,
   "id": "750953cd-eef8-4943-a133-c6d39f8c8d4a",
   "metadata": {},
   "outputs": [
    {
     "name": "stdout",
     "output_type": "stream",
     "text": [
      "-191.0\n"
     ]
    }
   ],
   "source": [
    "print (tt)"
   ]
  },
  {
   "cell_type": "code",
   "execution_count": 10,
   "id": "534a066d-1a84-41c3-b365-4c1a0b576a24",
   "metadata": {},
   "outputs": [],
   "source": [
    "def t3 (u,b,j):\n",
    "    return u*b*j/(u*b*j**2)"
   ]
  },
  {
   "cell_type": "code",
   "execution_count": 11,
   "id": "3c0a204a-8888-4649-bedc-0241da409668",
   "metadata": {},
   "outputs": [
    {
     "name": "stdin",
     "output_type": "stream",
     "text": [
      " 8\n",
      " 2\n",
      " 4\n"
     ]
    }
   ],
   "source": [
    "u=float(input())\n",
    "b=float(input())\n",
    "j=float(input())"
   ]
  },
  {
   "cell_type": "code",
   "execution_count": 12,
   "id": "bdd9fe10-55c4-40ad-9389-29e0f9cab313",
   "metadata": {},
   "outputs": [],
   "source": [
    "ttt=t3(u,b,j)"
   ]
  },
  {
   "cell_type": "code",
   "execution_count": 13,
   "id": "6fad533d-5664-4154-be25-ac134286ef85",
   "metadata": {},
   "outputs": [
    {
     "name": "stdout",
     "output_type": "stream",
     "text": [
      "0.25\n"
     ]
    }
   ],
   "source": [
    "print (ttt)"
   ]
  },
  {
   "cell_type": "code",
   "execution_count": 14,
   "id": "4638b8b9-9137-4280-a496-836419c916d3",
   "metadata": {},
   "outputs": [],
   "source": [
    "def t4 (n,m):\n",
    "    return 1/n*(m-m**2)"
   ]
  },
  {
   "cell_type": "code",
   "execution_count": 15,
   "id": "6e319e8a-c5a1-4dca-9f41-aaa50a507600",
   "metadata": {},
   "outputs": [
    {
     "name": "stdin",
     "output_type": "stream",
     "text": [
      " 7\n",
      " 3\n"
     ]
    }
   ],
   "source": [
    "n=float(input())\n",
    "m=float(input())"
   ]
  },
  {
   "cell_type": "code",
   "execution_count": 16,
   "id": "5fb0dfef-d0ff-4b4c-b673-38280cf66322",
   "metadata": {},
   "outputs": [],
   "source": [
    "tttt=t4(n,m)"
   ]
  },
  {
   "cell_type": "code",
   "execution_count": 17,
   "id": "9ba3d15f-8a2d-42c1-8716-6d000dbda11a",
   "metadata": {},
   "outputs": [
    {
     "name": "stdout",
     "output_type": "stream",
     "text": [
      "-0.8571428571428571\n"
     ]
    }
   ],
   "source": [
    "print(tttt)"
   ]
  },
  {
   "cell_type": "code",
   "execution_count": 18,
   "id": "afd68d6d-aa40-4425-a2a7-40c3dde03bd7",
   "metadata": {},
   "outputs": [],
   "source": [
    "def t5 (a):\n",
    "    return k.sqrt(a*k.log(a))"
   ]
  },
  {
   "cell_type": "code",
   "execution_count": 19,
   "id": "96d04ef6-cdb2-42e2-b91b-535381ed7534",
   "metadata": {},
   "outputs": [
    {
     "name": "stdin",
     "output_type": "stream",
     "text": [
      " 6\n"
     ]
    }
   ],
   "source": [
    "a=float(input())"
   ]
  },
  {
   "cell_type": "code",
   "execution_count": 20,
   "id": "1fb07fff-218c-4baa-adfb-655c1b411c1d",
   "metadata": {},
   "outputs": [],
   "source": [
    "ttttt=t5(a)"
   ]
  },
  {
   "cell_type": "code",
   "execution_count": 21,
   "id": "3efae025-2235-44af-b36e-b2452536629f",
   "metadata": {},
   "outputs": [
    {
     "name": "stdout",
     "output_type": "stream",
     "text": [
      "<function t5 at 0x00000178C3AC0900>\n"
     ]
    }
   ],
   "source": [
    "print (t5)"
   ]
  },
  {
   "cell_type": "code",
   "execution_count": null,
   "id": "9500eaaf-add7-4ac0-aba6-5499c33af98b",
   "metadata": {},
   "outputs": [],
   "source": []
  }
 ],
 "metadata": {
  "kernelspec": {
   "display_name": "Python 3 (ipykernel)",
   "language": "python",
   "name": "python3"
  },
  "language_info": {
   "codemirror_mode": {
    "name": "ipython",
    "version": 3
   },
   "file_extension": ".py",
   "mimetype": "text/x-python",
   "name": "python",
   "nbconvert_exporter": "python",
   "pygments_lexer": "ipython3",
   "version": "3.13.3"
  }
 },
 "nbformat": 4,
 "nbformat_minor": 5
}
