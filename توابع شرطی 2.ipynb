{
 "cells": [
  {
   "cell_type": "code",
   "execution_count": 1,
   "id": "740212c4-17d1-46db-afea-23c78afd130b",
   "metadata": {},
   "outputs": [],
   "source": [
    "x=5\n",
    "y=0"
   ]
  },
  {
   "cell_type": "code",
   "execution_count": 4,
   "id": "826efbc2-e1c0-4d7c-890e-392412cbafc5",
   "metadata": {},
   "outputs": [],
   "source": [
    "def f (x,y):\n",
    "    print(x)\n",
    "    if(x==y):\n",
    "        return 0\n",
    "    else:\n",
    "        f(x-1,y)"
   ]
  },
  {
   "cell_type": "code",
   "execution_count": 5,
   "id": "25929208-4b77-4b88-8837-35a34844b547",
   "metadata": {},
   "outputs": [
    {
     "name": "stdout",
     "output_type": "stream",
     "text": [
      "5\n",
      "4\n",
      "3\n",
      "2\n",
      "1\n",
      "0\n"
     ]
    }
   ],
   "source": [
    "t=f(x,y)"
   ]
  },
  {
   "cell_type": "code",
   "execution_count": null,
   "id": "7d412a6d-e295-4eeb-af4d-d46879cc6961",
   "metadata": {},
   "outputs": [],
   "source": []
  }
 ],
 "metadata": {
  "kernelspec": {
   "display_name": "Python 3 (ipykernel)",
   "language": "python",
   "name": "python3"
  },
  "language_info": {
   "codemirror_mode": {
    "name": "ipython",
    "version": 3
   },
   "file_extension": ".py",
   "mimetype": "text/x-python",
   "name": "python",
   "nbconvert_exporter": "python",
   "pygments_lexer": "ipython3",
   "version": "3.13.3"
  }
 },
 "nbformat": 4,
 "nbformat_minor": 5
}
