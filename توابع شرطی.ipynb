{
 "cells": [
  {
   "cell_type": "code",
   "execution_count": 2,
   "id": "a66006cf-5be3-4657-95b5-2559d1de752c",
   "metadata": {},
   "outputs": [],
   "source": [
    "import math as k"
   ]
  },
  {
   "cell_type": "code",
   "execution_count": 7,
   "id": "cff46d92-cbca-42c1-ba56-555080934160",
   "metadata": {},
   "outputs": [],
   "source": [
    "x=0"
   ]
  },
  {
   "cell_type": "code",
   "execution_count": 14,
   "id": "5773700d-3f28-4eb7-88ad-5e71b9b99fc3",
   "metadata": {},
   "outputs": [],
   "source": [
    "def t1 (x):\n",
    "    if(0<=x<=1):\n",
    "        return x\n",
    "    else:\n",
    "        return 1/1+k.exp(-x)"
   ]
  },
  {
   "cell_type": "code",
   "execution_count": 15,
   "id": "cfe745e3-c42f-497c-9206-1344ee369973",
   "metadata": {},
   "outputs": [],
   "source": [
    "t=t1(x)"
   ]
  },
  {
   "cell_type": "code",
   "execution_count": 16,
   "id": "924ff6cc-1f06-42c2-97db-01530567692f",
   "metadata": {},
   "outputs": [
    {
     "name": "stdout",
     "output_type": "stream",
     "text": [
      "0\n"
     ]
    }
   ],
   "source": [
    "print (t)"
   ]
  }
 ],
 "metadata": {
  "kernelspec": {
   "display_name": "Python 3 (ipykernel)",
   "language": "python",
   "name": "python3"
  },
  "language_info": {
   "codemirror_mode": {
    "name": "ipython",
    "version": 3
   },
   "file_extension": ".py",
   "mimetype": "text/x-python",
   "name": "python",
   "nbconvert_exporter": "python",
   "pygments_lexer": "ipython3",
   "version": "3.13.3"
  }
 },
 "nbformat": 4,
 "nbformat_minor": 5
}
