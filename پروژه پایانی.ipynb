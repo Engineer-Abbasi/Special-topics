{
 "cells": [
  {
   "cell_type": "code",
   "execution_count": 6,
   "id": "6146d899-d487-4813-8348-ee518811b131",
   "metadata": {},
   "outputs": [],
   "source": [
    "def sum_recursive(lst, i=0):\n",
    "    if i == len(lst):\n",
    "        return 0\n",
    "    else:\n",
    "        return lst[i] + sum_recursive(lst, i+1)"
   ]
  },
  {
   "cell_type": "code",
   "execution_count": 7,
   "id": "afe10873-140c-486d-b104-2ddc2583d2f0",
   "metadata": {},
   "outputs": [],
   "source": [
    "students = {}"
   ]
  },
  {
   "cell_type": "code",
   "execution_count": 8,
   "id": "030522c9-1a66-4246-9578-859131d11b1c",
   "metadata": {},
   "outputs": [
    {
     "name": "stdin",
     "output_type": "stream",
     "text": [
      "تعداد دانش‌آموزان را وارد کنید:  1\n"
     ]
    }
   ],
   "source": [
    "count = int(input(\"تعداد دانش‌آموزان را وارد کنید: \"))"
   ]
  },
  {
   "cell_type": "code",
   "execution_count": null,
   "id": "87e593fb-eaa1-42ab-a773-653f7ff0f69a",
   "metadata": {},
   "outputs": [],
   "source": []
  },
  {
   "cell_type": "code",
   "execution_count": 15,
   "id": "3a2b57c4-2d0a-40b9-9c02-b24a9b20731c",
   "metadata": {},
   "outputs": [
    {
     "name": "stdin",
     "output_type": "stream",
     "text": [
      "نام دانش‌آموز را وارد کنید:  علی\n",
      "نمره درس 1 را وارد کنید:  15\n",
      "نمره درس 2 را وارد کنید:  16\n",
      "نمره درس 3 را وارد کنید:  18\n"
     ]
    },
    {
     "name": "stdout",
     "output_type": "stream",
     "text": [
      "وضعیت دانش‌آموز: خوب\n"
     ]
    }
   ],
   "source": [
    "for i in range(count):\n",
    "    name = input(\"نام دانش‌آموز را وارد کنید: \")\n",
    "    grades = []\n",
    "    \n",
    "    for j in range(3):\n",
    "        g = float(input(\"نمره درس \" + str(j+1) + \" را وارد کنید: \"))\n",
    "        grades.append(g)\n",
    "    \n",
    "    total = sum_recursive(grades)\n",
    "    avg = total / len(grades)\n",
    "    \n",
    "    if avg >= 17:\n",
    "        status = \"ممتاز\"\n",
    "    elif avg >= 14:\n",
    "        status = \"خوب\"\n",
    "    else:\n",
    "        status = \"نیاز به تلاش بیشتر\"\n",
    "    \n",
    "    print(\"وضعیت دانش‌آموز:\", status)\n",
    "    students={name: grades}"
   ]
  },
  {
   "cell_type": "code",
   "execution_count": 16,
   "id": "331bd17d-eb94-42fe-9e74-9a8d21b06442",
   "metadata": {},
   "outputs": [
    {
     "name": "stdout",
     "output_type": "stream",
     "text": [
      "===== گزارش کلی =====\n",
      "نام: علی\n",
      "نمرات: [15.0, 16.0, 18.0]\n",
      "میانگین: 16.333333333333332\n",
      "---\n"
     ]
    }
   ],
   "source": [
    "print(\"===== گزارش کلی =====\")\n",
    "for name in students:\n",
    "    print(\"نام:\", name)\n",
    "    print(\"نمرات:\", students[name])\n",
    "    avg = sum_recursive(students[name]) / len(students[name])\n",
    "    print(\"میانگین:\", avg)\n",
    "    print(\"---\")"
   ]
  },
  {
   "cell_type": "code",
   "execution_count": null,
   "id": "a5e643d9-fd04-44c4-8cef-dfc6afecea81",
   "metadata": {},
   "outputs": [],
   "source": []
  }
 ],
 "metadata": {
  "kernelspec": {
   "display_name": "Python 3 (ipykernel)",
   "language": "python",
   "name": "python3"
  },
  "language_info": {
   "codemirror_mode": {
    "name": "ipython",
    "version": 3
   },
   "file_extension": ".py",
   "mimetype": "text/x-python",
   "name": "python",
   "nbconvert_exporter": "python",
   "pygments_lexer": "ipython3",
   "version": "3.13.3"
  }
 },
 "nbformat": 4,
 "nbformat_minor": 5
}
